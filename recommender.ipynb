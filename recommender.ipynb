{
 "cells": [
  {
   "cell_type": "markdown",
   "metadata": {},
   "source": [
    "# Post Content Based Recommender"
   ]
  },
  {
   "cell_type": "code",
   "execution_count": 1,
   "metadata": {},
   "outputs": [],
   "source": [
    "# import packages\n",
    "%matplotlib inline\n",
    "import pandas as pd\n",
    "import numpy as np\n",
    "import os\n",
    "import matplotlib.pyplot as plt\n",
    "import seaborn as sns\n",
    "from scipy import stats\n",
    "from ast import literal_eval\n",
    "from sklearn.feature_extraction.text import TfidfVectorizer, CountVectorizer\n",
    "from sklearn.metrics.pairwise import linear_kernel, cosine_similarity\n",
    "from nltk.stem.snowball import SnowballStemmer\n",
    "from nltk.stem.wordnet import WordNetLemmatizer\n",
    "from nltk.corpus import wordnet\n"
   ]
  },
  {
   "cell_type": "code",
   "execution_count": 2,
   "metadata": {},
   "outputs": [],
   "source": [
    "contact_settings = pd.read_csv('data/contact_settings.csv')\n",
    "ext_feeds = pd.read_csv('data/extfeeds.csv')\n",
    "following = pd.read_csv('data/following.csv')\n",
    "maillists = pd.read_csv('data/maillists.csv')\n",
    "migrations = pd.read_csv('data/migrations.csv')\n",
    "notifications = pd.read_csv('data/migrations.csv')\n",
    "posts = pd.read_csv('data/posts.csv')\n",
    "thoughts = pd.read_csv('data/thoughts.csv')\n",
    "user_settings = pd.read_csv('data/user_settings.csv')\n",
    "users = pd.read_csv('data/users.csv')"
   ]
  },
  {
   "cell_type": "code",
   "execution_count": 3,
   "metadata": {},
   "outputs": [
    {
     "name": "stdout",
     "output_type": "stream",
     "text": [
      "(249, 6)\n",
      "(45, 12)\n",
      "(5296, 3)\n",
      "(41, 4)\n",
      "(26, 3)\n",
      "(26, 3)\n",
      "(876, 12)\n",
      "(16, 5)\n",
      "(2, 10)\n",
      "(2293, 12)\n"
     ]
    }
   ],
   "source": [
    "print(contact_settings.shape)\n",
    "print(ext_feeds.shape)\n",
    "print(following.shape)\n",
    "print(maillists.shape)\n",
    "print(migrations.shape)\n",
    "print(notifications.shape)\n",
    "print(posts.shape)\n",
    "print(thoughts.shape)\n",
    "print(user_settings.shape)\n",
    "print(users.shape)"
   ]
  },
  {
   "cell_type": "code",
   "execution_count": 4,
   "metadata": {},
   "outputs": [
    {
     "name": "stdout",
     "output_type": "stream",
     "text": [
      "=== Contact Settings ===\n",
      "   id  user_id                        email                   display_message  \\\n",
      "0   1       78  emmanuelezenwigbo@gmail.com  Web Developer | Digital Marketer   \n",
      "1   2       90           dward009@gmail.com                           Call me   \n",
      "2   3       53            apeji93@gmail.com                             Yossi   \n",
      "3   4      133          ireabueke@gmail.com                               NaN   \n",
      "4   5       92          bindas.fs@gmail.com          Contact me on that email   \n",
      "\n",
      "   created_at  updated_at  \n",
      "0         NaN         NaN  \n",
      "1         NaN         NaN  \n",
      "2         NaN         NaN  \n",
      "3         NaN         NaN  \n",
      "4         NaN         NaN  \n",
      "=== Ext Feeds ===\n",
      "     id  user_id           site  \\\n",
      "0  2839        2  Elijah Okokon   \n",
      "1  2840        2  Elijah Okokon   \n",
      "2  2841        2  Elijah Okokon   \n",
      "3  2842        2  Elijah Okokon   \n",
      "4  2843        2  Elijah Okokon   \n",
      "\n",
      "                                          site_image                 title  \\\n",
      "0  /storage/2/images//DB7axhFJpFUzPuCNPRMQ6X1iNwb...          with picture   \n",
      "1  /storage/2/images//DB7axhFJpFUzPuCNPRMQ6X1iNwb...  Your face PHP script   \n",
      "2  /storage/2/images//DB7axhFJpFUzPuCNPRMQ6X1iNwb...          this is mine   \n",
      "3  /storage/2/images//DB7axhFJpFUzPuCNPRMQ6X1iNwb...   this is a test post   \n",
      "4  /storage/2/images//DB7axhFJpFUzPuCNPRMQ6X1iNwb...         This is lucid   \n",
      "\n",
      "                                                 des  \\\n",
      "0                                                      \n",
      "1  this is what you see\\n\\~~~php\\n&lt;?php echo &...   \n",
      "2                                               mine   \n",
      "3                                i need this to work   \n",
      "4                                    I love this app   \n",
      "\n",
      "                             link                     date  \\\n",
      "0          /post/with-picture-f36   Sep 2nd, 2019 09:47 AM   \n",
      "1  /post/your-face-php-script-a2a  Aug 31st, 2019 03:19 PM   \n",
      "2          /post/this-is-mine-97b  Aug 31st, 2019 12:03 PM   \n",
      "3   /post/this-is-a-test-post-91c  Aug 31st, 2019 09:29 AM   \n",
      "4         /post/this-is-lucid-9a6  Aug 31st, 2019 09:29 AM   \n",
      "\n",
      "                                   image  created_at  updated_at  tags  \n",
      "0  /storage/2/images/img-rw5rbxsjg4.jpeg         NaN         NaN   NaN  \n",
      "1                                    NaN         NaN         NaN   NaN  \n",
      "2                                    NaN         NaN         NaN   NaN  \n",
      "3                                    NaN         NaN         NaN   NaN  \n",
      "4                                    NaN         NaN         NaN   NaN  \n",
      "=== Following ===\n",
      "   my_id  follower_id  status\n",
      "0      3            6       1\n",
      "1      6            3       1\n",
      "2      3            2       1\n",
      "3      3            7       1\n",
      "4      7            2       1\n",
      "=== MailLists ===\n",
      "   id                    email  created_at  updated_at\n",
      "0   1        ubarab85@live.com         NaN         NaN\n",
      "1   2     detoun4med@gmail.com         NaN         NaN\n",
      "2   3       emmanuel@gmail.com         NaN         NaN\n",
      "3   4       ifydechu@gmail.com         NaN         NaN\n",
      "4   5  olaiwolaahmod@gmail.com         NaN         NaN\n",
      "=== Migrations ===\n",
      "   id                                       migration  batch\n",
      "0   1            2014_10_12_000000_create_users_table      1\n",
      "1   2  2014_10_12_100000_create_password_resets_table      1\n",
      "2   4          2019_07_10_143908_create_ext_rss_table      1\n",
      "3   5         2019_07_10_145904_create_extfeeds_table      1\n",
      "4   6  2019_07_26_080545_add_short_bio_to_users_table      1\n",
      "=== Notifications ===\n",
      "   id                                       migration  batch\n",
      "0   1            2014_10_12_000000_create_users_table      1\n",
      "1   2  2014_10_12_100000_create_password_resets_table      1\n",
      "2   4          2019_07_10_143908_create_ext_rss_table      1\n",
      "3   5         2019_07_10_145904_create_extfeeds_table      1\n",
      "4   6  2019_07_26_080545_add_short_bio_to_users_table      1\n",
      "=== Posts ===\n",
      "   id  user_id                              title  \\\n",
      "0   1     2077  What i have learnt so far on HTML   \n",
      "1   2     1719                   HTML BEGINS HERE   \n",
      "2   4     1310            My Laziness In The Open   \n",
      "3   6     1787                          MY TASK 2   \n",
      "4   7      167                             Task 2   \n",
      "\n",
      "                                             content        tags  \\\n",
      "0  I learnt how to use the table tag as i have us...         NaN   \n",
      "1   I am on this journey with start.ng, and here ...  Technology   \n",
      "2  I have not been attending classes on the HNG c...         NaN   \n",
      "3  My journey on **StartNG** pre-internship progr...         NaN   \n",
      "4   A Summary on The “idongesit.html” CV, Its Str...         NaN   \n",
      "\n",
      "                                    slug           created_at  \\\n",
      "0  what-i-have-learnt-so-far-on-html-985  2019-08-25 18:39:01   \n",
      "1                   html-begins-here-4d6  2019-08-25 18:44:36   \n",
      "2            my-laziness-in-the-open-029  2019-08-25 18:50:33   \n",
      "3                          my-task-2-649  2019-08-25 18:51:36   \n",
      "4                             task-2-7e5  2019-08-25 18:51:39   \n",
      "\n",
      "            updated_at image  status_id action  post_id  \n",
      "0  2019-08-28 10:30:00     1        NaN    NaN      NaN  \n",
      "1  2019-08-28 10:30:00     1        NaN    NaN      NaN  \n",
      "2  2019-08-28 10:30:00     1        NaN    NaN      NaN  \n",
      "3  2019-08-28 10:30:00     1        NaN    NaN      NaN  \n",
      "4  2019-08-28 10:30:00     1        NaN    NaN      NaN  \n",
      "=== Thoughts ===\n",
      "   id  user_id                                            content  \\\n",
      "0   1     2195                                           hhhhhhhh   \n",
      "1   2      148                      Can't believe I'm learning ML   \n",
      "2   3     2212  - what you have learned so far\\r\\nI've learned...   \n",
      "3   4        1                                         Hey people   \n",
      "4   5     2223                                               nice   \n",
      "\n",
      "            created_at           updated_at  \n",
      "0  2019-08-26 12:30:26  2019-08-26 12:30:26  \n",
      "1  2019-08-26 12:57:35  2019-08-26 12:57:35  \n",
      "2  2019-08-26 13:35:41  2019-08-26 13:35:41  \n",
      "3  2019-08-26 14:12:07  2019-08-26 14:12:07  \n",
      "4  2019-08-26 14:24:55  2019-08-26 14:24:55  \n",
      "=== User Settings ===\n",
      "   id  user_id user_path  setting_path           created_at  \\\n",
      "0   1        4        4/           NaN  2019-09-22 20:34:42   \n",
      "1   2        2        2/           NaN  2019-09-23 04:51:40   \n",
      "\n",
      "            updated_at  tabs      view    theme public_view  \n",
      "0  2019-09-22 20:34:42   NaN  Timeline  default        Home  \n",
      "1  2019-09-23 04:51:40   NaN  timeline  default        Home  \n",
      "=== Users ===\n",
      "   id                   name   username                         email  \\\n",
      "0   1     Eniayomi Oluwaseyi   eniayomi   oluwaseyieniayomi@gmail.com   \n",
      "1   2          Elijah Okokon    DMatrix           okoelijah@gmail.com   \n",
      "2   3           Jeffrey Ogah  jeff.ogah           jeff.ogah@gmail.com   \n",
      "3   4  Oluwaseyi Oluwapelumi     nathan     nathanoluwaseyi@gmail.com   \n",
      "4   5                   PoRH      lamar  paulchibiukeigweze@gmail.com   \n",
      "\n",
      "                                               image provider  \\\n",
      "0  /storage/oluwaseyieniayomi/images//5lxMjdbOVca...   google   \n",
      "1  /storage/2/images//DB7axhFJpFUzPuCNPRMQ6X1iNwb...   google   \n",
      "2  https://lh3.googleusercontent.com/-FQgpN5l_UoY...   google   \n",
      "3  /storage/4/images/thumbnail/TLWSEBK7C-UMECCGUP...   google   \n",
      "4  /storage/5/images/thumbnail/images (2)_small_1...   google   \n",
      "\n",
      "             provider_id  password  \\\n",
      "0  100892238782850407484       NaN   \n",
      "1  105584000674868760138       NaN   \n",
      "2  101235103722282698796       NaN   \n",
      "3  107233455544779563919       NaN   \n",
      "4  103431607062264005570       NaN   \n",
      "\n",
      "                                      remember_token           created_at  \\\n",
      "0  79kIhqDiWzqx1i3eFpGMpxfLdPVIvSfv8A3vN2PNEl4ig9...  2019-08-01 16:57:22   \n",
      "1  Rz08FtDtdyAp8Cm5XJq5XumgZhEqytSu5MxxyHZYlHBhd0...  2019-08-01 17:05:58   \n",
      "2  ZxNMYG05B6RQuSWaJlqlc8bGbPyFxNGNnNf5D86biFix4G...  2019-08-01 19:55:39   \n",
      "3  uxbOXr4Cw8tJyilWDKQRhi7TjiV7gBzjMnX0cb4i3ndFu6...  2019-08-02 15:52:47   \n",
      "4  EeCB77oXHo3zdZgYTVhWlw2EyHkTtLSJb2PjWFF9RuG7H1...  2019-08-03 10:33:51   \n",
      "\n",
      "            updated_at                                          short_bio  \n",
      "0  2019-08-01 16:57:22               Software Developer | DevOPs Engineer  \n",
      "1  2019-08-01 17:05:58                                      Web Developer  \n",
      "2  2019-08-01 19:55:39  Front End Developer | React Developer | Mentor...  \n",
      "3  2019-08-02 15:52:47  | Software Developer | DevOps Engineer | @linu...  \n",
      "4  2019-08-03 10:33:51            I Am lamar and you don't think am real?  \n"
     ]
    }
   ],
   "source": [
    "print('=== Contact Settings ===')\n",
    "print(contact_settings.head())\n",
    "print('=== Ext Feeds ===')\n",
    "print(ext_feeds.head())\n",
    "print('=== Following ===')\n",
    "print(following.head())\n",
    "print('=== MailLists ===')\n",
    "print(maillists.head())\n",
    "print('=== Migrations ===')\n",
    "print(migrations.head())\n",
    "print('=== Notifications ===')\n",
    "print(notifications.head())\n",
    "print('=== Posts ===')\n",
    "print(posts.head())\n",
    "print('=== Thoughts ===')\n",
    "print(thoughts.head())\n",
    "print('=== User Settings ===')\n",
    "print(user_settings.head())\n",
    "print('=== Users ===')\n",
    "print(users.head())"
   ]
  },
  {
   "cell_type": "markdown",
   "metadata": {},
   "source": [
    "# Similar Post Content Based Recommender"
   ]
  },
  {
   "cell_type": "code",
   "execution_count": 5,
   "metadata": {},
   "outputs": [
    {
     "data": {
      "text/plain": [
       "0    I learnt how to use the table tag as i have us...\n",
       "1     I am on this journey with start.ng, and here ...\n",
       "2    I have not been attending classes on the HNG c...\n",
       "3    My journey on **StartNG** pre-internship progr...\n",
       "4     A Summary on The “idongesit.html” CV, Its Str...\n",
       "Name: content, dtype: object"
      ]
     },
     "execution_count": 5,
     "metadata": {},
     "output_type": "execute_result"
    }
   ],
   "source": [
    "# clean up content\n",
    "posts['content'] = posts['content'].str.replace(r'<[^>]*>', '')\n",
    "posts['content'] = posts['content'].str.replace(r'\\s', ' ')\n",
    "posts['content'] = posts['content'].str.replace(r'\\\\', ' ')\n",
    "posts['content'] = posts['content'].str.replace(r'\\~', ' ')\n",
    "posts['content'] = posts['content'].str.replace(r'\\[.*?\\]', '')\n",
    "posts['content'] = posts['content'].str.replace(r'\\(.*?\\)', '')\n",
    "posts['content'].head()"
   ]
  },
  {
   "cell_type": "code",
   "execution_count": 6,
   "metadata": {},
   "outputs": [
    {
     "data": {
      "text/plain": [
       "(876, 4597)"
      ]
     },
     "execution_count": 6,
     "metadata": {},
     "output_type": "execute_result"
    }
   ],
   "source": [
    "#Define a TF-IDF Vectorizer Object. Remove all english stop words such as 'the', 'a'\n",
    "tfidf = TfidfVectorizer(stop_words='english')\n",
    "\n",
    "#Replace NaN with an empty string\n",
    "posts['content'] = posts['content'].fillna('')\n",
    "\n",
    "#Construct the required TF-IDF matrix by fitting and transforming the data\n",
    "tfidf_matrix = tfidf.fit_transform(posts['content'])\n",
    "\n",
    "#Output the shape of tfidf_matrix\n",
    "tfidf_matrix.shape"
   ]
  },
  {
   "cell_type": "code",
   "execution_count": 7,
   "metadata": {},
   "outputs": [],
   "source": [
    "# Compute the cosine similarity matrix\n",
    "cosine_sim = linear_kernel(tfidf_matrix, tfidf_matrix)"
   ]
  },
  {
   "cell_type": "code",
   "execution_count": 8,
   "metadata": {},
   "outputs": [],
   "source": [
    "#Construct a reverse map of indices and posts titles\n",
    "indices = pd.Series(posts.index, index=posts['title']).drop_duplicates()"
   ]
  },
  {
   "cell_type": "code",
   "execution_count": 9,
   "metadata": {},
   "outputs": [],
   "source": [
    "# Function that takes in post title as input and outputs most similar posts\n",
    "def get_article_recommendations_for_user(title, cosine_sim=cosine_sim):\n",
    "    # Get the index of the post that matches the title\n",
    "    idx = indices[title]\n",
    "\n",
    "    # Get the pairwsie similarity scores of all posts with that post\n",
    "    sim_scores = list(enumerate(cosine_sim[idx]))\n",
    "\n",
    "    # Sort the posts based on the similarity scores\n",
    "    sim_scores = sorted(sim_scores, key=lambda x: x[1], reverse=True)\n",
    "\n",
    "    # Get the scores of the 10 most similar posts\n",
    "    sim_scores = sim_scores[1:11]\n",
    "\n",
    "    # Get the post indices\n",
    "    post_indices = [i[0] for i in sim_scores]\n",
    "\n",
    "    # Return the top 10 most similar posts\n",
    "    return posts['title'].iloc[post_indices]"
   ]
  },
  {
   "cell_type": "code",
   "execution_count": 10,
   "metadata": {},
   "outputs": [
    {
     "data": {
      "text/plain": [
       "258                      WHAT I'VE LEARNT SO FAR\n",
       "739                                       TASK 2\n",
       "740                                       TASK 2\n",
       "260                              HTML Experience\n",
       "5                             My Journey on HTML\n",
       "13                            What I done so far\n",
       "284                           My First HTML Page\n",
       "47     Task two of my Start.NG internship so far\n",
       "276                                CV Using html\n",
       "100                 What you have learned so far\n",
       "Name: title, dtype: object"
      ]
     },
     "execution_count": 10,
     "metadata": {},
     "output_type": "execute_result"
    }
   ],
   "source": [
    "get_article_recommendations_for_user('What i have learnt so far on HTML')"
   ]
  },
  {
   "cell_type": "markdown",
   "metadata": {},
   "source": [
    "# FOLLOWER RECOMMENDER"
   ]
  },
  {
   "cell_type": "code",
   "execution_count": 11,
   "metadata": {},
   "outputs": [
    {
     "data": {
      "text/plain": [
       "Index(['id', 'name', 'username', 'email', 'image', 'provider', 'provider_id',\n",
       "       'password', 'remember_token', 'created_at', 'updated_at', 'short_bio'],\n",
       "      dtype='object')"
      ]
     },
     "execution_count": 11,
     "metadata": {},
     "output_type": "execute_result"
    }
   ],
   "source": [
    "users.columns"
   ]
  },
  {
   "cell_type": "code",
   "execution_count": 12,
   "metadata": {},
   "outputs": [
    {
     "data": {
      "text/html": [
       "<div>\n",
       "<style scoped>\n",
       "    .dataframe tbody tr th:only-of-type {\n",
       "        vertical-align: middle;\n",
       "    }\n",
       "\n",
       "    .dataframe tbody tr th {\n",
       "        vertical-align: top;\n",
       "    }\n",
       "\n",
       "    .dataframe thead th {\n",
       "        text-align: right;\n",
       "    }\n",
       "</style>\n",
       "<table border=\"1\" class=\"dataframe\">\n",
       "  <thead>\n",
       "    <tr style=\"text-align: right;\">\n",
       "      <th></th>\n",
       "      <th>id</th>\n",
       "      <th>name</th>\n",
       "      <th>username</th>\n",
       "      <th>email</th>\n",
       "      <th>short_bio</th>\n",
       "    </tr>\n",
       "  </thead>\n",
       "  <tbody>\n",
       "    <tr>\n",
       "      <td>0</td>\n",
       "      <td>1</td>\n",
       "      <td>Eniayomi Oluwaseyi</td>\n",
       "      <td>eniayomi</td>\n",
       "      <td>oluwaseyieniayomi@gmail.com</td>\n",
       "      <td>Software Developer | DevOPs Engineer</td>\n",
       "    </tr>\n",
       "    <tr>\n",
       "      <td>1</td>\n",
       "      <td>2</td>\n",
       "      <td>Elijah Okokon</td>\n",
       "      <td>DMatrix</td>\n",
       "      <td>okoelijah@gmail.com</td>\n",
       "      <td>Web Developer</td>\n",
       "    </tr>\n",
       "    <tr>\n",
       "      <td>2</td>\n",
       "      <td>3</td>\n",
       "      <td>Jeffrey Ogah</td>\n",
       "      <td>jeff.ogah</td>\n",
       "      <td>jeff.ogah@gmail.com</td>\n",
       "      <td>Front End Developer | React Developer | Mentor...</td>\n",
       "    </tr>\n",
       "    <tr>\n",
       "      <td>3</td>\n",
       "      <td>4</td>\n",
       "      <td>Oluwaseyi Oluwapelumi</td>\n",
       "      <td>nathan</td>\n",
       "      <td>nathanoluwaseyi@gmail.com</td>\n",
       "      <td>| Software Developer | DevOps Engineer | @linu...</td>\n",
       "    </tr>\n",
       "    <tr>\n",
       "      <td>4</td>\n",
       "      <td>5</td>\n",
       "      <td>PoRH</td>\n",
       "      <td>lamar</td>\n",
       "      <td>paulchibiukeigweze@gmail.com</td>\n",
       "      <td>I Am lamar and you don't think am real?</td>\n",
       "    </tr>\n",
       "    <tr>\n",
       "      <td>5</td>\n",
       "      <td>6</td>\n",
       "      <td>Seyi Onifade</td>\n",
       "      <td>xyluz</td>\n",
       "      <td>hngtechapps@gmail.com</td>\n",
       "      <td>My Open Diary</td>\n",
       "    </tr>\n",
       "    <tr>\n",
       "      <td>6</td>\n",
       "      <td>7</td>\n",
       "      <td>Mark Essien</td>\n",
       "      <td>markessien</td>\n",
       "      <td>markessien@gmail.com</td>\n",
       "      <td>An engineer</td>\n",
       "    </tr>\n",
       "    <tr>\n",
       "      <td>7</td>\n",
       "      <td>8</td>\n",
       "      <td>Alex Moses</td>\n",
       "      <td>ahlesswywk</td>\n",
       "      <td>ahlesswywk@gmail.com</td>\n",
       "      <td>Software Developer hotelsng, Ex. Frontend deve...</td>\n",
       "    </tr>\n",
       "    <tr>\n",
       "      <td>8</td>\n",
       "      <td>9</td>\n",
       "      <td>Edmund Ekott</td>\n",
       "      <td>26th_edmund</td>\n",
       "      <td>edmund.timfon@gmail.com</td>\n",
       "      <td>Front-end Engineer 💻 | FIFA advocate 🎮 |  Ninja 🥋</td>\n",
       "    </tr>\n",
       "    <tr>\n",
       "      <td>9</td>\n",
       "      <td>10</td>\n",
       "      <td>Stefan aGz</td>\n",
       "      <td>stefanpongrz</td>\n",
       "      <td>stefanpongrz@gmail.com</td>\n",
       "      <td>Here</td>\n",
       "    </tr>\n",
       "  </tbody>\n",
       "</table>\n",
       "</div>"
      ],
      "text/plain": [
       "   id                   name      username                         email  \\\n",
       "0   1     Eniayomi Oluwaseyi      eniayomi   oluwaseyieniayomi@gmail.com   \n",
       "1   2          Elijah Okokon       DMatrix           okoelijah@gmail.com   \n",
       "2   3           Jeffrey Ogah     jeff.ogah           jeff.ogah@gmail.com   \n",
       "3   4  Oluwaseyi Oluwapelumi        nathan     nathanoluwaseyi@gmail.com   \n",
       "4   5                   PoRH         lamar  paulchibiukeigweze@gmail.com   \n",
       "5   6           Seyi Onifade         xyluz         hngtechapps@gmail.com   \n",
       "6   7            Mark Essien    markessien          markessien@gmail.com   \n",
       "7   8             Alex Moses    ahlesswywk          ahlesswywk@gmail.com   \n",
       "8   9           Edmund Ekott   26th_edmund       edmund.timfon@gmail.com   \n",
       "9  10             Stefan aGz  stefanpongrz        stefanpongrz@gmail.com   \n",
       "\n",
       "                                           short_bio  \n",
       "0               Software Developer | DevOPs Engineer  \n",
       "1                                      Web Developer  \n",
       "2  Front End Developer | React Developer | Mentor...  \n",
       "3  | Software Developer | DevOps Engineer | @linu...  \n",
       "4            I Am lamar and you don't think am real?  \n",
       "5                                      My Open Diary  \n",
       "6                                        An engineer  \n",
       "7  Software Developer hotelsng, Ex. Frontend deve...  \n",
       "8  Front-end Engineer 💻 | FIFA advocate 🎮 |  Ninja 🥋  \n",
       "9                                               Here  "
      ]
     },
     "execution_count": 12,
     "metadata": {},
     "output_type": "execute_result"
    }
   ],
   "source": [
    "users.drop(labels=['image', 'provider', 'provider', 'provider_id', 'password', 'remember_token', 'created_at', 'updated_at'], axis=1, inplace=True )\n",
    "users.head(10)"
   ]
  },
  {
   "cell_type": "code",
   "execution_count": 13,
   "metadata": {},
   "outputs": [
    {
     "data": {
      "text/plain": [
       "(2293, 5)"
      ]
     },
     "execution_count": 13,
     "metadata": {},
     "output_type": "execute_result"
    }
   ],
   "source": [
    "users.shape"
   ]
  },
  {
   "cell_type": "code",
   "execution_count": 14,
   "metadata": {},
   "outputs": [
    {
     "data": {
      "text/plain": [
       "0                 Software Developer | DevOPs Engineer\n",
       "1                                        Web Developer\n",
       "2    Front End Developer | React Developer | Mentor...\n",
       "3    | Software Developer | DevOps Engineer | @linu...\n",
       "4              I Am lamar and you don't think am real?\n",
       "Name: short_bio, dtype: object"
      ]
     },
     "execution_count": 14,
     "metadata": {},
     "output_type": "execute_result"
    }
   ],
   "source": [
    "users['short_bio'].head(5)"
   ]
  },
  {
   "cell_type": "code",
   "execution_count": 15,
   "metadata": {},
   "outputs": [
    {
     "data": {
      "text/plain": [
       "(2293, 2242)"
      ]
     },
     "execution_count": 15,
     "metadata": {},
     "output_type": "execute_result"
    }
   ],
   "source": [
    "#Define a TF-IDF Vectorizer Object. Remove all english stop words such as 'the', 'a'\n",
    "tfidf = TfidfVectorizer(stop_words='english')\n",
    "#Replace NaN with an empty string\n",
    "users['short_bio'] = users['short_bio'].fillna('')\n",
    "#Construct the required TF-IDF matrix by fitting and transforming the data\n",
    "tfidf_matrix = tfidf.fit_transform(users['short_bio'])\n",
    "#Output the shape of tfidf_matrix\n",
    "# this produces the number of different words used by user in the short_bio\n",
    "tfidf_matrix.shape"
   ]
  },
  {
   "cell_type": "code",
   "execution_count": 16,
   "metadata": {},
   "outputs": [],
   "source": [
    "# Compute the cosine similarity matrix\n",
    "consine_sim = linear_kernel(tfidf_matrix, tfidf_matrix, True)\n",
    "#Construct a reverse map of indices and user name\n",
    "indices = pd.Series(users.index, index=users['id'])"
   ]
  },
  {
   "cell_type": "code",
   "execution_count": 17,
   "metadata": {},
   "outputs": [],
   "source": [
    "def create_new_db(x):\n",
    "    \"\"\"\n",
    "    this function takes the result from get_followers and transforms to a DB with other info\n",
    "    paramx: recommendation Series\n",
    "    \"\"\"\n",
    "    y = x.copy()\n",
    "    z = x.copy()\n",
    "    y.update(users['name'])\n",
    "    z.update(users['short_bio'])\n",
    "    xdf=pd.DataFrame(x)\n",
    "    ydf=pd.DataFrame(y)\n",
    "    zdf=pd.DataFrame(z)\n",
    "    ydf.rename(columns={'id':'Name'}, inplace=True)\n",
    "    xdf.rename(columns={'id':'User_Id'}, inplace=True)\n",
    "    zdf.rename(columns={'id':'short_bio'}, inplace=True)\n",
    "    frames = [xdf,ydf,zdf]\n",
    "    new_df = pd.concat(frames, axis=1)\n",
    "    new_df.set_index('User_Id', inplace=True)\n",
    "    return new_df"
   ]
  },
  {
   "cell_type": "code",
   "execution_count": 18,
   "metadata": {},
   "outputs": [],
   "source": [
    "# Function that takes in user name as input and outputs most similar users\n",
    "def get_followers(id, consine_sim=consine_sim):\n",
    "    # Get the index of the users that matches the user\n",
    "    idx = indices[id]\n",
    "    # Get the pairwsie similarity scores of all users with that user\n",
    "    sim_scores = list(enumerate(consine_sim[idx]))\n",
    "    # Sort the users based on the similarity scores\n",
    "    sim_scores = sorted(sim_scores, key=lambda x: x[1], reverse=True)\n",
    "    # Get the scores of the 10 most similar users\n",
    "    sim_scores = sim_scores[1:11]\n",
    "     # Get the user indices\n",
    "    follow_indices = [i[0] for i in sim_scores]\n",
    "      # Return the top 10 most similar user\n",
    "    follower_id = users['id'].iloc[follow_indices]\n",
    "    # Create a new data frame containing the user id and name \n",
    "    follower_rec = create_new_db(follower_id)\n",
    "    return follower_rec"
   ]
  },
  {
   "cell_type": "code",
   "execution_count": 19,
   "metadata": {},
   "outputs": [],
   "source": [
    "# Use this function to get details of the user with their user id\n",
    "def check_user(id):\n",
    "    name = users.loc[users['id'] == id, 'name']\n",
    "    bio = users.loc[users['id'] == id, 'short_bio']\n",
    "    return name.iloc[0], bio.iloc[0]"
   ]
  },
  {
   "cell_type": "code",
   "execution_count": 20,
   "metadata": {},
   "outputs": [
    {
     "data": {
      "text/plain": [
       "('Oluwatomisin Lalude', 'Web Developer')"
      ]
     },
     "execution_count": 20,
     "metadata": {},
     "output_type": "execute_result"
    }
   ],
   "source": [
    "check_user(23)"
   ]
  },
  {
   "cell_type": "code",
   "execution_count": 21,
   "metadata": {},
   "outputs": [
    {
     "data": {
      "text/html": [
       "<div>\n",
       "<style scoped>\n",
       "    .dataframe tbody tr th:only-of-type {\n",
       "        vertical-align: middle;\n",
       "    }\n",
       "\n",
       "    .dataframe tbody tr th {\n",
       "        vertical-align: top;\n",
       "    }\n",
       "\n",
       "    .dataframe thead th {\n",
       "        text-align: right;\n",
       "    }\n",
       "</style>\n",
       "<table border=\"1\" class=\"dataframe\">\n",
       "  <thead>\n",
       "    <tr style=\"text-align: right;\">\n",
       "      <th></th>\n",
       "      <th>Name</th>\n",
       "      <th>short_bio</th>\n",
       "    </tr>\n",
       "    <tr>\n",
       "      <th>User_Id</th>\n",
       "      <th></th>\n",
       "      <th></th>\n",
       "    </tr>\n",
       "  </thead>\n",
       "  <tbody>\n",
       "    <tr>\n",
       "      <td>23</td>\n",
       "      <td>Oluwatomisin Lalude</td>\n",
       "      <td>Web Developer</td>\n",
       "    </tr>\n",
       "    <tr>\n",
       "      <td>66</td>\n",
       "      <td>Kev Chike</td>\n",
       "      <td>Web Developer</td>\n",
       "    </tr>\n",
       "    <tr>\n",
       "      <td>78</td>\n",
       "      <td>Emmanuel Ezenwigbo</td>\n",
       "      <td>Web developer</td>\n",
       "    </tr>\n",
       "    <tr>\n",
       "      <td>338</td>\n",
       "      <td>Stephen Oluwafemi</td>\n",
       "      <td>Web Developer</td>\n",
       "    </tr>\n",
       "    <tr>\n",
       "      <td>362</td>\n",
       "      <td>Hafizah Muhyideen</td>\n",
       "      <td>I am a web developer</td>\n",
       "    </tr>\n",
       "    <tr>\n",
       "      <td>725</td>\n",
       "      <td>Tochukwu Nwosu</td>\n",
       "      <td>I am a Web Developer</td>\n",
       "    </tr>\n",
       "    <tr>\n",
       "      <td>857</td>\n",
       "      <td>benjamin chibuzor</td>\n",
       "      <td>Web Developer</td>\n",
       "    </tr>\n",
       "    <tr>\n",
       "      <td>1012</td>\n",
       "      <td>OMIDIORA EMMANUEL</td>\n",
       "      <td>Web Developer</td>\n",
       "    </tr>\n",
       "    <tr>\n",
       "      <td>1167</td>\n",
       "      <td>Ogunjuyigbe Oluwaseyi</td>\n",
       "      <td>Web developer</td>\n",
       "    </tr>\n",
       "    <tr>\n",
       "      <td>1254</td>\n",
       "      <td>Adrian Roca</td>\n",
       "      <td>Web Developer</td>\n",
       "    </tr>\n",
       "  </tbody>\n",
       "</table>\n",
       "</div>"
      ],
      "text/plain": [
       "                          Name             short_bio\n",
       "User_Id                                             \n",
       "23         Oluwatomisin Lalude         Web Developer\n",
       "66                   Kev Chike         Web Developer\n",
       "78          Emmanuel Ezenwigbo         Web developer\n",
       "338          Stephen Oluwafemi         Web Developer\n",
       "362          Hafizah Muhyideen  I am a web developer\n",
       "725             Tochukwu Nwosu  I am a Web Developer\n",
       "857          benjamin chibuzor         Web Developer\n",
       "1012         OMIDIORA EMMANUEL         Web Developer\n",
       "1167     Ogunjuyigbe Oluwaseyi         Web developer\n",
       "1254               Adrian Roca         Web Developer"
      ]
     },
     "execution_count": 21,
     "metadata": {},
     "output_type": "execute_result"
    }
   ],
   "source": [
    "# Run Get_followers with user id as input\n",
    "get_followers(23)"
   ]
  },
  {
   "cell_type": "code",
   "execution_count": 22,
   "metadata": {},
   "outputs": [
    {
     "data": {
      "text/plain": [
       "'Web Developer'"
      ]
     },
     "execution_count": 22,
     "metadata": {},
     "output_type": "execute_result"
    }
   ],
   "source": [
    "users.loc[users['id'] == 23, 'short_bio'].iloc[0]"
   ]
  },
  {
   "cell_type": "code",
   "execution_count": null,
   "metadata": {},
   "outputs": [],
   "source": []
  }
 ],
 "metadata": {
  "kernelspec": {
   "display_name": "Python 3",
   "language": "python",
   "name": "python3"
  },
  "language_info": {
   "codemirror_mode": {
    "name": "ipython",
    "version": 3
   },
   "file_extension": ".py",
   "mimetype": "text/x-python",
   "name": "python",
   "nbconvert_exporter": "python",
   "pygments_lexer": "ipython3",
   "version": "3.7.4"
  }
 },
 "nbformat": 4,
 "nbformat_minor": 2
}
