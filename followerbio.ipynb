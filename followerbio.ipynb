{
 "cells": [
  {
   "cell_type": "markdown",
   "metadata": {},
   "source": [
    "# FOLLOWER RECOMMENDER"
   ]
  },
  {
   "cell_type": "markdown",
   "metadata": {},
   "source": [
    "IMPORT NECESSARY LIBRARIES"
   ]
  },
  {
   "cell_type": "code",
   "execution_count": 26,
   "metadata": {},
   "outputs": [],
   "source": [
    "import numpy as np\n",
    "import pandas as pd\n",
    "import os"
   ]
  },
  {
   "cell_type": "code",
   "execution_count": 27,
   "metadata": {},
   "outputs": [
    {
     "data": {
      "text/plain": [
       "Index(['id', 'name', 'username', 'email', 'image', 'provider', 'provider_id',\n",
       "       'password', 'remember_token', 'created_at', 'updated_at', 'short_bio'],\n",
       "      dtype='object')"
      ]
     },
     "execution_count": 27,
     "metadata": {},
     "output_type": "execute_result"
    }
   ],
   "source": [
    "user = pd.read_csv(\"data/users.csv\")\n",
    "user.columns"
   ]
  },
  {
   "cell_type": "code",
   "execution_count": 28,
   "metadata": {},
   "outputs": [
    {
     "data": {
      "text/html": [
       "<div>\n",
       "<style scoped>\n",
       "    .dataframe tbody tr th:only-of-type {\n",
       "        vertical-align: middle;\n",
       "    }\n",
       "\n",
       "    .dataframe tbody tr th {\n",
       "        vertical-align: top;\n",
       "    }\n",
       "\n",
       "    .dataframe thead th {\n",
       "        text-align: right;\n",
       "    }\n",
       "</style>\n",
       "<table border=\"1\" class=\"dataframe\">\n",
       "  <thead>\n",
       "    <tr style=\"text-align: right;\">\n",
       "      <th></th>\n",
       "      <th>id</th>\n",
       "      <th>name</th>\n",
       "      <th>username</th>\n",
       "      <th>email</th>\n",
       "      <th>short_bio</th>\n",
       "    </tr>\n",
       "  </thead>\n",
       "  <tbody>\n",
       "    <tr>\n",
       "      <th>0</th>\n",
       "      <td>1</td>\n",
       "      <td>Eniayomi Oluwaseyi</td>\n",
       "      <td>eniayomi</td>\n",
       "      <td>oluwaseyieniayomi@gmail.com</td>\n",
       "      <td>Software Developer | DevOPs Engineer</td>\n",
       "    </tr>\n",
       "    <tr>\n",
       "      <th>1</th>\n",
       "      <td>2</td>\n",
       "      <td>Elijah Okokon</td>\n",
       "      <td>DMatrix</td>\n",
       "      <td>okoelijah@gmail.com</td>\n",
       "      <td>Web Developer</td>\n",
       "    </tr>\n",
       "    <tr>\n",
       "      <th>2</th>\n",
       "      <td>3</td>\n",
       "      <td>Jeffrey Ogah</td>\n",
       "      <td>jeff.ogah</td>\n",
       "      <td>jeff.ogah@gmail.com</td>\n",
       "      <td>Front End Developer | React Developer | Mentor...</td>\n",
       "    </tr>\n",
       "    <tr>\n",
       "      <th>3</th>\n",
       "      <td>4</td>\n",
       "      <td>Oluwaseyi Oluwapelumi</td>\n",
       "      <td>nathan</td>\n",
       "      <td>nathanoluwaseyi@gmail.com</td>\n",
       "      <td>| Software Developer | DevOps Engineer | @linu...</td>\n",
       "    </tr>\n",
       "    <tr>\n",
       "      <th>4</th>\n",
       "      <td>5</td>\n",
       "      <td>PoRH</td>\n",
       "      <td>lamar</td>\n",
       "      <td>paulchibiukeigweze@gmail.com</td>\n",
       "      <td>I Am lamar and you don't think am real?</td>\n",
       "    </tr>\n",
       "    <tr>\n",
       "      <th>5</th>\n",
       "      <td>6</td>\n",
       "      <td>Seyi Onifade</td>\n",
       "      <td>xyluz</td>\n",
       "      <td>hngtechapps@gmail.com</td>\n",
       "      <td>My Open Diary</td>\n",
       "    </tr>\n",
       "    <tr>\n",
       "      <th>6</th>\n",
       "      <td>7</td>\n",
       "      <td>Mark Essien</td>\n",
       "      <td>markessien</td>\n",
       "      <td>markessien@gmail.com</td>\n",
       "      <td>An engineer</td>\n",
       "    </tr>\n",
       "    <tr>\n",
       "      <th>7</th>\n",
       "      <td>8</td>\n",
       "      <td>Alex Moses</td>\n",
       "      <td>ahlesswywk</td>\n",
       "      <td>ahlesswywk@gmail.com</td>\n",
       "      <td>Software Developer hotelsng, Ex. Frontend deve...</td>\n",
       "    </tr>\n",
       "    <tr>\n",
       "      <th>8</th>\n",
       "      <td>9</td>\n",
       "      <td>Edmund Ekott</td>\n",
       "      <td>26th_edmund</td>\n",
       "      <td>edmund.timfon@gmail.com</td>\n",
       "      <td>Front-end Engineer 💻 | FIFA advocate 🎮 |  Ninja 🥋</td>\n",
       "    </tr>\n",
       "    <tr>\n",
       "      <th>9</th>\n",
       "      <td>10</td>\n",
       "      <td>Stefan aGz</td>\n",
       "      <td>stefanpongrz</td>\n",
       "      <td>stefanpongrz@gmail.com</td>\n",
       "      <td>Here</td>\n",
       "    </tr>\n",
       "  </tbody>\n",
       "</table>\n",
       "</div>"
      ],
      "text/plain": [
       "   id                   name      username                         email  \\\n",
       "0   1     Eniayomi Oluwaseyi      eniayomi   oluwaseyieniayomi@gmail.com   \n",
       "1   2          Elijah Okokon       DMatrix           okoelijah@gmail.com   \n",
       "2   3           Jeffrey Ogah     jeff.ogah           jeff.ogah@gmail.com   \n",
       "3   4  Oluwaseyi Oluwapelumi        nathan     nathanoluwaseyi@gmail.com   \n",
       "4   5                   PoRH         lamar  paulchibiukeigweze@gmail.com   \n",
       "5   6           Seyi Onifade         xyluz         hngtechapps@gmail.com   \n",
       "6   7            Mark Essien    markessien          markessien@gmail.com   \n",
       "7   8             Alex Moses    ahlesswywk          ahlesswywk@gmail.com   \n",
       "8   9           Edmund Ekott   26th_edmund       edmund.timfon@gmail.com   \n",
       "9  10             Stefan aGz  stefanpongrz        stefanpongrz@gmail.com   \n",
       "\n",
       "                                           short_bio  \n",
       "0               Software Developer | DevOPs Engineer  \n",
       "1                                      Web Developer  \n",
       "2  Front End Developer | React Developer | Mentor...  \n",
       "3  | Software Developer | DevOps Engineer | @linu...  \n",
       "4            I Am lamar and you don't think am real?  \n",
       "5                                      My Open Diary  \n",
       "6                                        An engineer  \n",
       "7  Software Developer hotelsng, Ex. Frontend deve...  \n",
       "8  Front-end Engineer 💻 | FIFA advocate 🎮 |  Ninja 🥋  \n",
       "9                                               Here  "
      ]
     },
     "execution_count": 28,
     "metadata": {},
     "output_type": "execute_result"
    }
   ],
   "source": [
    "user.drop(labels=['image', 'provider', 'provider', 'provider_id', 'password', 'remember_token', 'created_at', 'updated_at'], axis=1, inplace=True )\n",
    "user.head(10)"
   ]
  },
  {
   "cell_type": "code",
   "execution_count": 29,
   "metadata": {},
   "outputs": [
    {
     "data": {
      "text/plain": [
       "(2293, 5)"
      ]
     },
     "execution_count": 29,
     "metadata": {},
     "output_type": "execute_result"
    }
   ],
   "source": [
    "user.shape"
   ]
  },
  {
   "cell_type": "code",
   "execution_count": 30,
   "metadata": {},
   "outputs": [
    {
     "data": {
      "text/plain": [
       "0                 Software Developer | DevOPs Engineer\n",
       "1                                        Web Developer\n",
       "2    Front End Developer | React Developer | Mentor...\n",
       "3    | Software Developer | DevOps Engineer | @linu...\n",
       "4              I Am lamar and you don't think am real?\n",
       "Name: short_bio, dtype: object"
      ]
     },
     "execution_count": 30,
     "metadata": {},
     "output_type": "execute_result"
    }
   ],
   "source": [
    "user['short_bio'].head(5)"
   ]
  },
  {
   "cell_type": "code",
   "execution_count": 31,
   "metadata": {},
   "outputs": [],
   "source": [
    "#Import TfIdfVectorizer from scikit-learn\n",
    "from sklearn.feature_extraction.text import TfidfVectorizer"
   ]
  },
  {
   "cell_type": "code",
   "execution_count": 32,
   "metadata": {},
   "outputs": [],
   "source": [
    "#Define a TF-IDF Vectorizer Object. Remove all english stop words such as 'the', 'a'\n",
    "tfidf = TfidfVectorizer(stop_words='english')"
   ]
  },
  {
   "cell_type": "code",
   "execution_count": 33,
   "metadata": {},
   "outputs": [],
   "source": [
    "#Replace NaN with an empty string\n",
    "user['short_bio'] = user['short_bio'].fillna('')"
   ]
  },
  {
   "cell_type": "code",
   "execution_count": 34,
   "metadata": {},
   "outputs": [],
   "source": [
    "#Construct the required TF-IDF matrix by fitting and transforming the data\n",
    "tfidf_matrix = tfidf.fit_transform(user['short_bio'])"
   ]
  },
  {
   "cell_type": "code",
   "execution_count": 35,
   "metadata": {},
   "outputs": [
    {
     "data": {
      "text/plain": [
       "(2293, 2242)"
      ]
     },
     "execution_count": 35,
     "metadata": {},
     "output_type": "execute_result"
    }
   ],
   "source": [
    "#Output the shape of tfidf_matrix\n",
    "# this produces the number of different words used by user in the short_bio\n",
    "tfidf_matrix.shape"
   ]
  },
  {
   "cell_type": "code",
   "execution_count": 36,
   "metadata": {},
   "outputs": [],
   "source": [
    "# Import linear_kernel\n",
    "from sklearn.metrics.pairwise import linear_kernel"
   ]
  },
  {
   "cell_type": "code",
   "execution_count": 37,
   "metadata": {},
   "outputs": [],
   "source": [
    "# Compute the cosine similarity matrix\n",
    "consine_sim = linear_kernel(tfidf_matrix, tfidf_matrix, True)"
   ]
  },
  {
   "cell_type": "code",
   "execution_count": 38,
   "metadata": {},
   "outputs": [],
   "source": [
    "#Construct a reverse map of indices and user name\n",
    "indices = pd.Series(user.index, index=user['id'])"
   ]
  },
  {
   "cell_type": "code",
   "execution_count": 39,
   "metadata": {},
   "outputs": [],
   "source": [
    "def create_new_db(x):\n",
    "    \"\"\"\n",
    "    this function takes the result from get_followers and transforms to a DB with other info\n",
    "    paramx: recommendation Series\n",
    "    \"\"\"\n",
    "    y = x.copy()\n",
    "    z = x.copy()\n",
    "    y.update(user['name'])\n",
    "    z.update(user['short_bio'])\n",
    "    xdf=pd.DataFrame(x)\n",
    "    ydf=pd.DataFrame(y)\n",
    "    zdf=pd.DataFrame(z)\n",
    "    ydf.rename(columns={'id':'Name'}, inplace=True)\n",
    "    xdf.rename(columns={'id':'User_Id'}, inplace=True)\n",
    "    zdf.rename(columns={'id':'short_bio'}, inplace=True)\n",
    "    frames = [xdf,ydf,zdf]\n",
    "    new_df = pd.concat(frames, axis=1)\n",
    "    new_df.set_index('User_Id', inplace=True)\n",
    "    return new_df"
   ]
  },
  {
   "cell_type": "code",
   "execution_count": 40,
   "metadata": {},
   "outputs": [],
   "source": [
    "# Function that takes in user name as input and outputs most similar users\n",
    "def get_followers(id, consine_sim=consine_sim):\n",
    "    # Get the index of the users that matches the user\n",
    "    idx = indices[id]\n",
    "    # Get the pairwsie similarity scores of all users with that user\n",
    "    sim_scores = list(enumerate(consine_sim[idx]))\n",
    "    # Sort the users based on the similarity scores\n",
    "    sim_scores = sorted(sim_scores, key=lambda x: x[1], reverse=True)\n",
    "    # Get the scores of the 10 most similar users\n",
    "    sim_scores = sim_scores[1:11]\n",
    "     # Get the user indices\n",
    "    follow_indices = [i[0] for i in sim_scores]\n",
    "      # Return the top 10 most similar user\n",
    "    follower_id = user['id'].iloc[follow_indices]\n",
    "    # Create a new data frame containing the user id and name \n",
    "    follower_rec = create_new_db(follower_id)\n",
    "    return follower_rec"
   ]
  },
  {
   "cell_type": "code",
   "execution_count": 59,
   "metadata": {},
   "outputs": [],
   "source": [
    "# Use this function to get details of the user with their user id\n",
    "def check_user(id):\n",
    "    name = user.loc[user['id'] == id, 'name']\n",
    "    bio = user.loc[user['id'] == id, 'short_bio']\n",
    "    return name.iloc[0], bio.iloc[0]"
   ]
  },
  {
   "cell_type": "code",
   "execution_count": 60,
   "metadata": {},
   "outputs": [
    {
     "data": {
      "text/plain": [
       "('Oluwatomisin Lalude', 'Web Developer')"
      ]
     },
     "execution_count": 60,
     "metadata": {},
     "output_type": "execute_result"
    }
   ],
   "source": [
    "check_user(23)"
   ]
  },
  {
   "cell_type": "code",
   "execution_count": 61,
   "metadata": {},
   "outputs": [
    {
     "data": {
      "text/html": [
       "<div>\n",
       "<style scoped>\n",
       "    .dataframe tbody tr th:only-of-type {\n",
       "        vertical-align: middle;\n",
       "    }\n",
       "\n",
       "    .dataframe tbody tr th {\n",
       "        vertical-align: top;\n",
       "    }\n",
       "\n",
       "    .dataframe thead th {\n",
       "        text-align: right;\n",
       "    }\n",
       "</style>\n",
       "<table border=\"1\" class=\"dataframe\">\n",
       "  <thead>\n",
       "    <tr style=\"text-align: right;\">\n",
       "      <th></th>\n",
       "      <th>Name</th>\n",
       "      <th>short_bio</th>\n",
       "    </tr>\n",
       "    <tr>\n",
       "      <th>User_Id</th>\n",
       "      <th></th>\n",
       "      <th></th>\n",
       "    </tr>\n",
       "  </thead>\n",
       "  <tbody>\n",
       "    <tr>\n",
       "      <th>23</th>\n",
       "      <td>Oluwatomisin Lalude</td>\n",
       "      <td>Web Developer</td>\n",
       "    </tr>\n",
       "    <tr>\n",
       "      <th>66</th>\n",
       "      <td>Kev Chike</td>\n",
       "      <td>Web Developer</td>\n",
       "    </tr>\n",
       "    <tr>\n",
       "      <th>78</th>\n",
       "      <td>Emmanuel Ezenwigbo</td>\n",
       "      <td>Web developer</td>\n",
       "    </tr>\n",
       "    <tr>\n",
       "      <th>338</th>\n",
       "      <td>Stephen Oluwafemi</td>\n",
       "      <td>Web Developer</td>\n",
       "    </tr>\n",
       "    <tr>\n",
       "      <th>362</th>\n",
       "      <td>Hafizah Muhyideen</td>\n",
       "      <td>I am a web developer</td>\n",
       "    </tr>\n",
       "    <tr>\n",
       "      <th>725</th>\n",
       "      <td>Tochukwu Nwosu</td>\n",
       "      <td>I am a Web Developer</td>\n",
       "    </tr>\n",
       "    <tr>\n",
       "      <th>857</th>\n",
       "      <td>benjamin chibuzor</td>\n",
       "      <td>Web Developer</td>\n",
       "    </tr>\n",
       "    <tr>\n",
       "      <th>1012</th>\n",
       "      <td>OMIDIORA EMMANUEL</td>\n",
       "      <td>Web Developer</td>\n",
       "    </tr>\n",
       "    <tr>\n",
       "      <th>1167</th>\n",
       "      <td>Ogunjuyigbe Oluwaseyi</td>\n",
       "      <td>Web developer</td>\n",
       "    </tr>\n",
       "    <tr>\n",
       "      <th>1254</th>\n",
       "      <td>Adrian Roca</td>\n",
       "      <td>Web Developer</td>\n",
       "    </tr>\n",
       "  </tbody>\n",
       "</table>\n",
       "</div>"
      ],
      "text/plain": [
       "                          Name             short_bio\n",
       "User_Id                                             \n",
       "23         Oluwatomisin Lalude         Web Developer\n",
       "66                   Kev Chike         Web Developer\n",
       "78          Emmanuel Ezenwigbo         Web developer\n",
       "338          Stephen Oluwafemi         Web Developer\n",
       "362          Hafizah Muhyideen  I am a web developer\n",
       "725             Tochukwu Nwosu  I am a Web Developer\n",
       "857          benjamin chibuzor         Web Developer\n",
       "1012         OMIDIORA EMMANUEL         Web Developer\n",
       "1167     Ogunjuyigbe Oluwaseyi         Web developer\n",
       "1254               Adrian Roca         Web Developer"
      ]
     },
     "execution_count": 61,
     "metadata": {},
     "output_type": "execute_result"
    }
   ],
   "source": [
    "# Run Get_followers with user id as input\n",
    "get_followers(23)"
   ]
  },
  {
   "cell_type": "code",
   "execution_count": null,
   "metadata": {
    "scrolled": true
   },
   "outputs": [],
   "source": []
  },
  {
   "cell_type": "code",
   "execution_count": 62,
   "metadata": {},
   "outputs": [
    {
     "data": {
      "text/plain": [
       "'Web Developer'"
      ]
     },
     "execution_count": 62,
     "metadata": {},
     "output_type": "execute_result"
    }
   ],
   "source": [
    "user.loc[user['id'] == 23, 'short_bio'].item()\n"
   ]
  },
  {
   "cell_type": "code",
   "execution_count": null,
   "metadata": {},
   "outputs": [],
   "source": []
  }
 ],
 "metadata": {
  "kernelspec": {
   "display_name": "Python 3",
   "language": "python",
   "name": "python3"
  },
  "language_info": {
   "codemirror_mode": {
    "name": "ipython",
    "version": 3
   },
   "file_extension": ".py",
   "mimetype": "text/x-python",
   "name": "python",
   "nbconvert_exporter": "python",
   "pygments_lexer": "ipython3",
   "version": "3.7.1"
  }
 },
 "nbformat": 4,
 "nbformat_minor": 2
}
